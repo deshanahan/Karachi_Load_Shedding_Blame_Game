{
 "cells": [
  {
   "cell_type": "code",
   "execution_count": 1277,
   "metadata": {},
   "outputs": [],
   "source": [
    "# Modules we will need\n",
    "import config\n",
    "import datetime as DT\n",
    "import twitter\n",
    "import pandas as pd\n",
    "import numpy as np\n",
    "\n",
    "\n",
    "# Variables we will need\n",
    "api = twitter.Api(consumer_key = config.api_key, consumer_secret = config.api_key_secret, access_token_key = config.access_token, access_token_secret = config.access_secret)\n",
    "today = DT.date.today()\n",
    "week_ago = today - DT.timedelta(days = 7)\n",
    "static_search = 'q=load shedding karachi'\n",
    "blamed_list = ['Karachi Electric', 'Imran Khan', 'Asad Umar', 'NEPRA', 'Sui Gas', 'Naeem Rehman', 'Omar Ayub Khan', 'Tehreeki Insaaf']\n",
    "name_set_list = [karachi_electric_set, imran_khan_set, asad_umar_set, nepra_set, sui_set, naeem_rehman_set, omar_ayub_khan_set, PTI_set]\n",
    "blamer_set = set.union(*name_set_list)"
   ]
  },
  {
   "cell_type": "code",
   "execution_count": 1278,
   "metadata": {},
   "outputs": [],
   "source": [
    "# Set up the functions that we will need.\n",
    "\n",
    "def name_setter(search):\n",
    "    '''Returns set of twitter usernames who tweeted specified search criteria using GetSearch raw_query.  Contains no duplicates.'''\n",
    "    name_set = {tweet.user.screen_name for tweet in search}\n",
    "    return name_set\n",
    "\n",
    "def name_set_length_lister(name_set_list):\n",
    "    '''Returns a list of the lengths of a passed iterable.'''\n",
    "    name_set_length_list = [len(name_set) for name_set in name_set_list]\n",
    "    return name_set_length_list\n",
    "\n",
    "def name_mbr_test(name_set_list, names):\n",
    "    '''Returns dictionary of membership tests between two iterables.'''\n",
    "    name_dict = {}\n",
    "    for name in names:\n",
    "        if name in name_set_list:\n",
    "            name_dict[name] = True           \n",
    "        else:\n",
    "            name_dict[name] = False\n",
    "    return name_dict    "
   ]
  },
  {
   "cell_type": "code",
   "execution_count": 1279,
   "metadata": {
    "scrolled": true
   },
   "outputs": [],
   "source": [
    "# Search criteria for Karachi load shedding.  To be cleaned up.\n",
    "\n",
    "ke_search = api.GetSearch(raw_query = f'{static_search} #KE until%3A{today} since%3A{week_ago}&count=100')\n",
    "KElectricPk_search = api.GetSearch(raw_query = f'{static_search} %40KElectricPk until%3A{today} since%3A{week_ago}&count=100')\n",
    "imran_khan_search = api.GetSearch(raw_query = f'{static_search} %40ImranKhanPTI until%3A{today} since%3A{week_ago}&count=100')\n",
    "asad_umar_search = api.GetSearch(raw_query = f'{static_search} %40Asad_Umar until%3A{today} since%3A{week_ago}&count=100')\n",
    "nepra_search = api.GetSearch(raw_query = f'{static_search} #NEPRA until%3A{today} since%3A{week_ago}&count=100')\n",
    "sui_search = api.GetSearch(raw_query = f'{static_search} sui until%3A{today} since%3A{week_ago}&count=100')\n",
    "naeem_rehman_search = api.GetSearch(raw_query = f'{static_search} %40NaeemRehmanEngr until%3A{today} since%3A{week_ago}&count=100')\n",
    "omar_ayub_khan_search = api.GetSearch(raw_query = f'{static_search} %40OmarAyubKhan until%3A{today} since%3A{week_ago}&count=100')\n",
    "PTI_government_search = api.GetSearch(raw_query = f'{static_search} #PTI_government until%3A{today} since%3A{week_ago}&count=100')"
   ]
  },
  {
   "cell_type": "code",
   "execution_count": 1280,
   "metadata": {},
   "outputs": [],
   "source": [
    "# Take twitter user names for all of the searches\n",
    "ke_set = name_setter(ke_search)\n",
    "KElectricPk_set = name_setter(KElectricPk_search)\n",
    "karachi_electric_set = ke_set.union(KElectricPk_set)\n",
    "imran_khan_set = name_setter(imran_khan_search)\n",
    "asad_umar_set = name_setter(asad_umar_search)\n",
    "nepra_set = name_setter(nepra_search)\n",
    "sui_set = name_setter(sui_search)\n",
    "naeem_rehman_set = name_setter(naeem_rehman_search)\n",
    "omar_ayub_khan_set = name_setter(omar_ayub_khan_search)\n",
    "PTI_set = name_setter(PTI_government_search)"
   ]
  },
  {
   "cell_type": "code",
   "execution_count": 1281,
   "metadata": {},
   "outputs": [
    {
     "name": "stdout",
     "output_type": "stream",
     "text": [
      "{'Karachi Electric': 25, 'Imran Khan': 2, 'Asad Umar': 3, 'NEPRA': 14, 'Sui Gas': 68, 'Naeem Rehman': 2, 'Omar Ayub Khan': 1, 'Tehreeki Insaaf': 14}\n"
     ]
    }
   ],
   "source": [
    "# Find the length of the name_set_list\n",
    "name_set_lengths = name_set_length_lister(name_set_list)\n",
    "\n",
    "# Create a dictionary of the blamed entities and the number of times each entity is blamed\n",
    "blamed_dict = dict(zip(blamed_list, name_set_lengths))\n",
    "print(blamed_dict)"
   ]
  },
  {
   "cell_type": "code",
   "execution_count": 1282,
   "metadata": {},
   "outputs": [
    {
     "name": "stdout",
     "output_type": "stream",
     "text": [
      "<class 'dict'>\n"
     ]
    }
   ],
   "source": [
    "# Turn the set into a list\n",
    "blame_list = list(blamer_set)\n",
    "\n",
    "\n",
    "# Membership tests for all name sets\n",
    "karachi_electric_blame_test = name_mbr_test(list(karachi_electric_set), blame_list)\n",
    "imran_khan_blame_test = name_mbr_test(list(imran_khan_set), blame_list)\n",
    "asad_umar_blame_test = name_mbr_test(list(asad_umar_set), blame_list)\n",
    "nepra_blame_test = name_mbr_test(list(nepra_set), blame_list)\n",
    "sui_blame_test = name_mbr_test(list(sui_set), blame_list)\n",
    "naeem_rehman_blame_test = name_mbr_test(list(naeem_rehman_set), blame_list)\n",
    "omar_ayub_khan_blame_test = name_mbr_test(list(omar_ayub_khan_set), blame_list)\n",
    "PTI_blame_test = name_mbr_test(list(PTI_set), blame_list)\n",
    "\n",
    "# Make sure we are getting a dictionary back\n",
    "print(type(karachi_electric_blame_test))\n",
    "\n",
    "# Make a list of all blame tests\n",
    "blame_test_list = [karachi_electric_blame_test, imran_khan_blame_test, asad_umar_blame_test,\\\n",
    "                   nepra_blame_test, sui_blame_test, naeem_rehman_blame_test, omar_ayub_khan_blame_test, PTI_blame_test]\n"
   ]
  },
  {
   "cell_type": "code",
   "execution_count": 1283,
   "metadata": {},
   "outputs": [
    {
     "data": {
      "text/plain": [
       "Karachi Electric    25\n",
       "Imran Khan           2\n",
       "Asad Umar            3\n",
       "NEPRA               14\n",
       "Sui Gas             68\n",
       "Naeem Rehman         2\n",
       "Omar Ayub Khan       1\n",
       "Tehreeki Insaaf     14\n",
       "dtype: int64"
      ]
     },
     "execution_count": 1283,
     "metadata": {},
     "output_type": "execute_result"
    }
   ],
   "source": [
    "# Create a pandas Series out of the dictionary\n",
    "times_blamed = pd.Series(blamed_dict)\n",
    "times_blamed"
   ]
  },
  {
   "cell_type": "code",
   "execution_count": 1284,
   "metadata": {},
   "outputs": [
    {
     "name": "stdout",
     "output_type": "stream",
     "text": [
      "The total times all entities in the dataset have been blamed for load shedding in Karachi, Pakistan is 129.\n",
      "The average number of times the entities in the dataset have been blamed for load shedding in Karachi, Pakistan is 16.125.\n"
     ]
    }
   ],
   "source": [
    "# Print the total and average of the times_blamed Series\n",
    "print(f'The total times all entities in the dataset have been blamed for load shedding in Karachi, Pakistan is {sum(times_blamed)}.')\n",
    "print(f'The average number of times the entities in the dataset have been blamed for load shedding in Karachi, Pakistan is {np.mean(times_blamed)}.')\n"
   ]
  },
  {
   "cell_type": "code",
   "execution_count": 1285,
   "metadata": {},
   "outputs": [
    {
     "data": {
      "text/plain": [
       "<matplotlib.axes._subplots.AxesSubplot at 0x17bcae82dc0>"
      ]
     },
     "execution_count": 1285,
     "metadata": {},
     "output_type": "execute_result"
    },
    {
     "data": {
      "image/png": "[encoded data removed]",
      "text/plain": [
       "<Figure size 432x288 with 1 Axes>"
      ]
     },
     "metadata": {
      "needs_background": "light"
     },
     "output_type": "display_data"
    }
   ],
   "source": [
    "# Plot a histogram of the times_blamed Series\n",
    "times_blamed.plot.hist()"
   ]
  },
  {
   "cell_type": "code",
   "execution_count": 1286,
   "metadata": {},
   "outputs": [
    {
     "data": {
      "text/plain": [
       "<matplotlib.axes._subplots.AxesSubplot at 0x17bcbfd7d60>"
      ]
     },
     "execution_count": 1286,
     "metadata": {},
     "output_type": "execute_result"
    },
    {
     "data": {
      "image/png": "[encoded data removed]",
      "text/plain": [
       "<Figure size 432x288 with 1 Axes>"
      ]
     },
     "metadata": {
      "needs_background": "light"
     },
     "output_type": "display_data"
    }
   ],
   "source": [
    "# Drop a few rows of the times_blamed Series to make it more normalized\n",
    "normalized_times_blamed = times_blamed.drop(['Sui Gas', 'Asad Umar', 'Omar Ayub Khan', 'Naeem Rehman'])\n",
    "normalized_times_blamed.plot.hist()\n"
   ]
  },
  {
   "cell_type": "code",
   "execution_count": 1287,
   "metadata": {},
   "outputs": [
    {
     "data": {
      "text/plain": [
       "<matplotlib.axes._subplots.AxesSubplot at 0x17bcad488b0>"
      ]
     },
     "execution_count": 1287,
     "metadata": {},
     "output_type": "execute_result"
    },
    {
     "data": {
      "image/png": "[encoded data removed]",
      "text/plain": [
       "<Figure size 432x288 with 1 Axes>"
      ]
     },
     "metadata": {
      "needs_background": "light"
     },
     "output_type": "display_data"
    }
   ],
   "source": [
    "# Plot a bar chart for the times_blamed Series\n",
    "times_blamed.plot.bar(legend = False)"
   ]
  },
  {
   "cell_type": "code",
   "execution_count": 1288,
   "metadata": {},
   "outputs": [
    {
     "data": {
      "text/html": [
       "<div>\n",
       "<style scoped>\n",
       "    .dataframe tbody tr th:only-of-type {\n",
       "        vertical-align: middle;\n",
       "    }\n",
       "\n",
       "    .dataframe tbody tr th {\n",
       "        vertical-align: top;\n",
       "    }\n",
       "\n",
       "    .dataframe thead th {\n",
       "        text-align: right;\n",
       "    }\n",
       "</style>\n",
       "<table border=\"1\" class=\"dataframe\">\n",
       "  <thead>\n",
       "    <tr style=\"text-align: right;\">\n",
       "      <th></th>\n",
       "      <th>Tweeter0</th>\n",
       "      <th>Tweeter1</th>\n",
       "      <th>Tweeter2</th>\n",
       "      <th>Tweeter3</th>\n",
       "      <th>Tweeter4</th>\n",
       "      <th>Tweeter5</th>\n",
       "      <th>Tweeter6</th>\n",
       "      <th>Tweeter7</th>\n",
       "      <th>Tweeter8</th>\n",
       "      <th>Tweeter9</th>\n",
       "      <th>...</th>\n",
       "      <th>Tweeter84</th>\n",
       "      <th>Tweeter85</th>\n",
       "      <th>Tweeter86</th>\n",
       "      <th>Tweeter87</th>\n",
       "      <th>Tweeter88</th>\n",
       "      <th>Tweeter89</th>\n",
       "      <th>Tweeter90</th>\n",
       "      <th>Tweeter91</th>\n",
       "      <th>Tweeter92</th>\n",
       "      <th>Tweeter93</th>\n",
       "    </tr>\n",
       "  </thead>\n",
       "  <tbody>\n",
       "    <tr>\n",
       "      <th>Karachi Electric</th>\n",
       "      <td>True</td>\n",
       "      <td>True</td>\n",
       "      <td>False</td>\n",
       "      <td>True</td>\n",
       "      <td>False</td>\n",
       "      <td>False</td>\n",
       "      <td>True</td>\n",
       "      <td>True</td>\n",
       "      <td>False</td>\n",
       "      <td>False</td>\n",
       "      <td>...</td>\n",
       "      <td>False</td>\n",
       "      <td>False</td>\n",
       "      <td>False</td>\n",
       "      <td>False</td>\n",
       "      <td>True</td>\n",
       "      <td>True</td>\n",
       "      <td>False</td>\n",
       "      <td>False</td>\n",
       "      <td>False</td>\n",
       "      <td>True</td>\n",
       "    </tr>\n",
       "    <tr>\n",
       "      <th>Imran Khan</th>\n",
       "      <td>False</td>\n",
       "      <td>False</td>\n",
       "      <td>False</td>\n",
       "      <td>False</td>\n",
       "      <td>False</td>\n",
       "      <td>False</td>\n",
       "      <td>True</td>\n",
       "      <td>False</td>\n",
       "      <td>False</td>\n",
       "      <td>False</td>\n",
       "      <td>...</td>\n",
       "      <td>False</td>\n",
       "      <td>False</td>\n",
       "      <td>False</td>\n",
       "      <td>False</td>\n",
       "      <td>False</td>\n",
       "      <td>True</td>\n",
       "      <td>False</td>\n",
       "      <td>False</td>\n",
       "      <td>False</td>\n",
       "      <td>False</td>\n",
       "    </tr>\n",
       "    <tr>\n",
       "      <th>Asad Umar</th>\n",
       "      <td>False</td>\n",
       "      <td>False</td>\n",
       "      <td>False</td>\n",
       "      <td>False</td>\n",
       "      <td>False</td>\n",
       "      <td>False</td>\n",
       "      <td>True</td>\n",
       "      <td>False</td>\n",
       "      <td>False</td>\n",
       "      <td>False</td>\n",
       "      <td>...</td>\n",
       "      <td>False</td>\n",
       "      <td>False</td>\n",
       "      <td>False</td>\n",
       "      <td>False</td>\n",
       "      <td>False</td>\n",
       "      <td>True</td>\n",
       "      <td>False</td>\n",
       "      <td>False</td>\n",
       "      <td>False</td>\n",
       "      <td>False</td>\n",
       "    </tr>\n",
       "    <tr>\n",
       "      <th>NEPRA</th>\n",
       "      <td>True</td>\n",
       "      <td>True</td>\n",
       "      <td>False</td>\n",
       "      <td>True</td>\n",
       "      <td>False</td>\n",
       "      <td>False</td>\n",
       "      <td>False</td>\n",
       "      <td>False</td>\n",
       "      <td>False</td>\n",
       "      <td>False</td>\n",
       "      <td>...</td>\n",
       "      <td>False</td>\n",
       "      <td>False</td>\n",
       "      <td>False</td>\n",
       "      <td>False</td>\n",
       "      <td>True</td>\n",
       "      <td>False</td>\n",
       "      <td>False</td>\n",
       "      <td>False</td>\n",
       "      <td>False</td>\n",
       "      <td>True</td>\n",
       "    </tr>\n",
       "    <tr>\n",
       "      <th>Sui Gas</th>\n",
       "      <td>False</td>\n",
       "      <td>False</td>\n",
       "      <td>True</td>\n",
       "      <td>False</td>\n",
       "      <td>True</td>\n",
       "      <td>False</td>\n",
       "      <td>False</td>\n",
       "      <td>False</td>\n",
       "      <td>True</td>\n",
       "      <td>False</td>\n",
       "      <td>...</td>\n",
       "      <td>True</td>\n",
       "      <td>True</td>\n",
       "      <td>True</td>\n",
       "      <td>True</td>\n",
       "      <td>False</td>\n",
       "      <td>False</td>\n",
       "      <td>True</td>\n",
       "      <td>True</td>\n",
       "      <td>True</td>\n",
       "      <td>False</td>\n",
       "    </tr>\n",
       "    <tr>\n",
       "      <th>Naeem Rehman</th>\n",
       "      <td>False</td>\n",
       "      <td>False</td>\n",
       "      <td>False</td>\n",
       "      <td>False</td>\n",
       "      <td>False</td>\n",
       "      <td>True</td>\n",
       "      <td>False</td>\n",
       "      <td>False</td>\n",
       "      <td>False</td>\n",
       "      <td>True</td>\n",
       "      <td>...</td>\n",
       "      <td>False</td>\n",
       "      <td>False</td>\n",
       "      <td>False</td>\n",
       "      <td>False</td>\n",
       "      <td>False</td>\n",
       "      <td>False</td>\n",
       "      <td>False</td>\n",
       "      <td>False</td>\n",
       "      <td>False</td>\n",
       "      <td>False</td>\n",
       "    </tr>\n",
       "    <tr>\n",
       "      <th>Omar Ayub Khan</th>\n",
       "      <td>False</td>\n",
       "      <td>False</td>\n",
       "      <td>False</td>\n",
       "      <td>False</td>\n",
       "      <td>False</td>\n",
       "      <td>False</td>\n",
       "      <td>True</td>\n",
       "      <td>False</td>\n",
       "      <td>False</td>\n",
       "      <td>False</td>\n",
       "      <td>...</td>\n",
       "      <td>False</td>\n",
       "      <td>False</td>\n",
       "      <td>False</td>\n",
       "      <td>False</td>\n",
       "      <td>False</td>\n",
       "      <td>False</td>\n",
       "      <td>False</td>\n",
       "      <td>False</td>\n",
       "      <td>False</td>\n",
       "      <td>False</td>\n",
       "    </tr>\n",
       "    <tr>\n",
       "      <th>Tehreeki Insaaf</th>\n",
       "      <td>True</td>\n",
       "      <td>True</td>\n",
       "      <td>False</td>\n",
       "      <td>True</td>\n",
       "      <td>False</td>\n",
       "      <td>False</td>\n",
       "      <td>False</td>\n",
       "      <td>False</td>\n",
       "      <td>False</td>\n",
       "      <td>False</td>\n",
       "      <td>...</td>\n",
       "      <td>False</td>\n",
       "      <td>False</td>\n",
       "      <td>False</td>\n",
       "      <td>False</td>\n",
       "      <td>True</td>\n",
       "      <td>False</td>\n",
       "      <td>False</td>\n",
       "      <td>False</td>\n",
       "      <td>False</td>\n",
       "      <td>True</td>\n",
       "    </tr>\n",
       "  </tbody>\n",
       "</table>\n",
       "<p>8 rows × 94 columns</p>\n",
       "</div>"
      ],
      "text/plain": [
       "                  Tweeter0  Tweeter1  Tweeter2  Tweeter3  Tweeter4  Tweeter5  \\\n",
       "Karachi Electric      True      True     False      True     False     False   \n",
       "Imran Khan           False     False     False     False     False     False   \n",
       "Asad Umar            False     False     False     False     False     False   \n",
       "NEPRA                 True      True     False      True     False     False   \n",
       "Sui Gas              False     False      True     False      True     False   \n",
       "Naeem Rehman         False     False     False     False     False      True   \n",
       "Omar Ayub Khan       False     False     False     False     False     False   \n",
       "Tehreeki Insaaf       True      True     False      True     False     False   \n",
       "\n",
       "                  Tweeter6  Tweeter7  Tweeter8  Tweeter9  ...  Tweeter84  \\\n",
       "Karachi Electric      True      True     False     False  ...      False   \n",
       "Imran Khan            True     False     False     False  ...      False   \n",
       "Asad Umar             True     False     False     False  ...      False   \n",
       "NEPRA                False     False     False     False  ...      False   \n",
       "Sui Gas              False     False      True     False  ...       True   \n",
       "Naeem Rehman         False     False     False      True  ...      False   \n",
       "Omar Ayub Khan        True     False     False     False  ...      False   \n",
       "Tehreeki Insaaf      False     False     False     False  ...      False   \n",
       "\n",
       "                  Tweeter85  Tweeter86  Tweeter87  Tweeter88  Tweeter89  \\\n",
       "Karachi Electric      False      False      False       True       True   \n",
       "Imran Khan            False      False      False      False       True   \n",
       "Asad Umar             False      False      False      False       True   \n",
       "NEPRA                 False      False      False       True      False   \n",
       "Sui Gas                True       True       True      False      False   \n",
       "Naeem Rehman          False      False      False      False      False   \n",
       "Omar Ayub Khan        False      False      False      False      False   \n",
       "Tehreeki Insaaf       False      False      False       True      False   \n",
       "\n",
       "                  Tweeter90  Tweeter91  Tweeter92  Tweeter93  \n",
       "Karachi Electric      False      False      False       True  \n",
       "Imran Khan            False      False      False      False  \n",
       "Asad Umar             False      False      False      False  \n",
       "NEPRA                 False      False      False       True  \n",
       "Sui Gas                True       True       True      False  \n",
       "Naeem Rehman          False      False      False      False  \n",
       "Omar Ayub Khan        False      False      False      False  \n",
       "Tehreeki Insaaf       False      False      False       True  \n",
       "\n",
       "[8 rows x 94 columns]"
      ]
     },
     "execution_count": 1288,
     "metadata": {},
     "output_type": "execute_result"
    }
   ],
   "source": [
    "# Create a dataframe out of the membership tests\n",
    "karachi_ls_df = pd.DataFrame(blame_test_list, index = blamed_list)\n",
    "karachi_ls_df.columns = ['Tweeter' + str(x) for x in range(0, len(karachi_ls_df.columns))]\n",
    "karachi_ls_df"
   ]
  },
  {
   "cell_type": "code",
   "execution_count": 1289,
   "metadata": {},
   "outputs": [],
   "source": [
    "sample_karachi_ls_df = karachi_ls_df.sample(n=10, axis=1)"
   ]
  },
  {
   "cell_type": "code",
   "execution_count": 1290,
   "metadata": {},
   "outputs": [
    {
     "name": "stdout",
     "output_type": "stream",
     "text": [
      "(array([False,  True]), array([66, 14], dtype=int64))\n"
     ]
    }
   ],
   "source": [
    "unique_sample = np.unique(sample_karachi_ls_df, return_counts = True)\n",
    "print(unique_sample)"
   ]
  },
  {
   "cell_type": "code",
   "execution_count": 1291,
   "metadata": {},
   "outputs": [
    {
     "data": {
      "text/plain": [
       "[Text(0, 0.5, 'Occurences in sample'), Text(0.5, 0, 'True/False')]"
      ]
     },
     "execution_count": 1291,
     "metadata": {},
     "output_type": "execute_result"
    },
    {
     "data": {
      "image/png": "[encoded data removed]",
      "text/plain": [
       "<Figure size 432x288 with 1 Axes>"
      ]
     },
     "metadata": {
      "needs_background": "light"
     },
     "output_type": "display_data"
    }
   ],
   "source": [
    "unique_sample_df = pd.DataFrame(unique_sample)\n",
    "unique_sample_df.rename(columns=unique_sample_df.iloc[0], inplace = True) \n",
    "unique_sample_df.drop([0], inplace = True)\n",
    "ax = unique_sample_df.plot.bar(title = 'Who is Being Blamed for Load Shedding in Karachi: True/False Samples')\n",
    "ax.set(xlabel = 'True/False', ylabel = 'Occurences in sample')"
   ]
  },
  {
   "cell_type": "code",
   "execution_count": null,
   "metadata": {},
   "outputs": [],
   "source": []
  }
 ],
 "metadata": {
  "kernelspec": {
   "display_name": "Python 3",
   "language": "python",
   "name": "python3"
  },
  "language_info": {
   "codemirror_mode": {
    "name": "ipython",
    "version": 3
   },
   "file_extension": ".py",
   "mimetype": "text/x-python",
   "name": "python",
   "nbconvert_exporter": "python",
   "pygments_lexer": "ipython3",
   "version": "3.8.3"
  }
 },
 "nbformat": 4,
 "nbformat_minor": 4
}
